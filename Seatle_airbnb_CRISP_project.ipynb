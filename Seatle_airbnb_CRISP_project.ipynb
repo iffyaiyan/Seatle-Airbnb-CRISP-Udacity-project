{
 "cells": [
  {
   "cell_type": "markdown",
   "metadata": {},
   "source": [
    "# Udacity CRISP DM Project"
   ]
  },
  {
   "cell_type": "markdown",
   "metadata": {},
   "source": [
    "For this project the data I choose is Seatle Airbnb dataset. Lets look into the dataset."
   ]
  },
  {
   "cell_type": "markdown",
   "metadata": {},
   "source": [
    "First import all the necessary library needed for this project"
   ]
  },
  {
   "cell_type": "code",
   "execution_count": 1,
   "metadata": {},
   "outputs": [],
   "source": [
    "import pandas as pd\n",
    "import numpy as np\n",
    "import matplotlib.pyplot as plt\n",
    "%matplotlib inline"
   ]
  },
  {
   "cell_type": "markdown",
   "metadata": {},
   "source": [
    "Lets's read in the all the  data files of seatles Airbnb and look at some of the characteristics of dataset"
   ]
  },
  {
   "cell_type": "code",
   "execution_count": 2,
   "metadata": {},
   "outputs": [],
   "source": [
    "calendar = pd.read_csv('calendar.csv')\n",
    "listings = pd.read_csv('listings.csv')\n",
    "reviews = pd.read_csv('reviews.csv')"
   ]
  },
  {
   "cell_type": "code",
   "execution_count": 3,
   "metadata": {},
   "outputs": [
    {
     "data": {
      "text/html": [
       "<div>\n",
       "<style scoped>\n",
       "    .dataframe tbody tr th:only-of-type {\n",
       "        vertical-align: middle;\n",
       "    }\n",
       "\n",
       "    .dataframe tbody tr th {\n",
       "        vertical-align: top;\n",
       "    }\n",
       "\n",
       "    .dataframe thead th {\n",
       "        text-align: right;\n",
       "    }\n",
       "</style>\n",
       "<table border=\"1\" class=\"dataframe\">\n",
       "  <thead>\n",
       "    <tr style=\"text-align: right;\">\n",
       "      <th></th>\n",
       "      <th>listing_id</th>\n",
       "      <th>id</th>\n",
       "      <th>date</th>\n",
       "      <th>reviewer_id</th>\n",
       "      <th>reviewer_name</th>\n",
       "      <th>comments</th>\n",
       "    </tr>\n",
       "  </thead>\n",
       "  <tbody>\n",
       "    <tr>\n",
       "      <th>0</th>\n",
       "      <td>7202016</td>\n",
       "      <td>38917982</td>\n",
       "      <td>2015-07-19</td>\n",
       "      <td>28943674</td>\n",
       "      <td>Bianca</td>\n",
       "      <td>Cute and cozy place. Perfect location to every...</td>\n",
       "    </tr>\n",
       "    <tr>\n",
       "      <th>1</th>\n",
       "      <td>7202016</td>\n",
       "      <td>39087409</td>\n",
       "      <td>2015-07-20</td>\n",
       "      <td>32440555</td>\n",
       "      <td>Frank</td>\n",
       "      <td>Kelly has a great room in a very central locat...</td>\n",
       "    </tr>\n",
       "    <tr>\n",
       "      <th>2</th>\n",
       "      <td>7202016</td>\n",
       "      <td>39820030</td>\n",
       "      <td>2015-07-26</td>\n",
       "      <td>37722850</td>\n",
       "      <td>Ian</td>\n",
       "      <td>Very spacious apartment, and in a great neighb...</td>\n",
       "    </tr>\n",
       "    <tr>\n",
       "      <th>3</th>\n",
       "      <td>7202016</td>\n",
       "      <td>40813543</td>\n",
       "      <td>2015-08-02</td>\n",
       "      <td>33671805</td>\n",
       "      <td>George</td>\n",
       "      <td>Close to Seattle Center and all it has to offe...</td>\n",
       "    </tr>\n",
       "    <tr>\n",
       "      <th>4</th>\n",
       "      <td>7202016</td>\n",
       "      <td>41986501</td>\n",
       "      <td>2015-08-10</td>\n",
       "      <td>34959538</td>\n",
       "      <td>Ming</td>\n",
       "      <td>Kelly was a great host and very accommodating ...</td>\n",
       "    </tr>\n",
       "  </tbody>\n",
       "</table>\n",
       "</div>"
      ],
      "text/plain": [
       "   listing_id        id        date  reviewer_id reviewer_name  \\\n",
       "0     7202016  38917982  2015-07-19     28943674        Bianca   \n",
       "1     7202016  39087409  2015-07-20     32440555         Frank   \n",
       "2     7202016  39820030  2015-07-26     37722850           Ian   \n",
       "3     7202016  40813543  2015-08-02     33671805        George   \n",
       "4     7202016  41986501  2015-08-10     34959538          Ming   \n",
       "\n",
       "                                            comments  \n",
       "0  Cute and cozy place. Perfect location to every...  \n",
       "1  Kelly has a great room in a very central locat...  \n",
       "2  Very spacious apartment, and in a great neighb...  \n",
       "3  Close to Seattle Center and all it has to offe...  \n",
       "4  Kelly was a great host and very accommodating ...  "
      ]
     },
     "execution_count": 3,
     "metadata": {},
     "output_type": "execute_result"
    }
   ],
   "source": [
    "reviews.head()"
   ]
  },
  {
   "cell_type": "code",
   "execution_count": 4,
   "metadata": {},
   "outputs": [
    {
     "data": {
      "text/html": [
       "<div>\n",
       "<style scoped>\n",
       "    .dataframe tbody tr th:only-of-type {\n",
       "        vertical-align: middle;\n",
       "    }\n",
       "\n",
       "    .dataframe tbody tr th {\n",
       "        vertical-align: top;\n",
       "    }\n",
       "\n",
       "    .dataframe thead th {\n",
       "        text-align: right;\n",
       "    }\n",
       "</style>\n",
       "<table border=\"1\" class=\"dataframe\">\n",
       "  <thead>\n",
       "    <tr style=\"text-align: right;\">\n",
       "      <th></th>\n",
       "      <th>id</th>\n",
       "      <th>listing_url</th>\n",
       "      <th>scrape_id</th>\n",
       "      <th>last_scraped</th>\n",
       "      <th>name</th>\n",
       "      <th>summary</th>\n",
       "      <th>space</th>\n",
       "      <th>description</th>\n",
       "      <th>experiences_offered</th>\n",
       "      <th>neighborhood_overview</th>\n",
       "      <th>...</th>\n",
       "      <th>review_scores_value</th>\n",
       "      <th>requires_license</th>\n",
       "      <th>license</th>\n",
       "      <th>jurisdiction_names</th>\n",
       "      <th>instant_bookable</th>\n",
       "      <th>cancellation_policy</th>\n",
       "      <th>require_guest_profile_picture</th>\n",
       "      <th>require_guest_phone_verification</th>\n",
       "      <th>calculated_host_listings_count</th>\n",
       "      <th>reviews_per_month</th>\n",
       "    </tr>\n",
       "  </thead>\n",
       "  <tbody>\n",
       "    <tr>\n",
       "      <th>0</th>\n",
       "      <td>241032</td>\n",
       "      <td>https://www.airbnb.com/rooms/241032</td>\n",
       "      <td>2.016010e+13</td>\n",
       "      <td>1/4/2016</td>\n",
       "      <td>Stylish Queen Anne Apartment</td>\n",
       "      <td>NaN</td>\n",
       "      <td>Make your self at home in this charming one-be...</td>\n",
       "      <td>Make your self at home in this charming one-be...</td>\n",
       "      <td>none</td>\n",
       "      <td>NaN</td>\n",
       "      <td>...</td>\n",
       "      <td>10.0</td>\n",
       "      <td>f</td>\n",
       "      <td>NaN</td>\n",
       "      <td>WASHINGTON</td>\n",
       "      <td>f</td>\n",
       "      <td>moderate</td>\n",
       "      <td>f</td>\n",
       "      <td>f</td>\n",
       "      <td>2</td>\n",
       "      <td>4.07</td>\n",
       "    </tr>\n",
       "    <tr>\n",
       "      <th>1</th>\n",
       "      <td>953595</td>\n",
       "      <td>https://www.airbnb.com/rooms/953595</td>\n",
       "      <td>2.016010e+13</td>\n",
       "      <td>1/4/2016</td>\n",
       "      <td>Bright &amp; Airy Queen Anne Apartment</td>\n",
       "      <td>Chemically sensitive? We've removed the irrita...</td>\n",
       "      <td>Beautiful, hypoallergenic apartment in an extr...</td>\n",
       "      <td>Chemically sensitive? We've removed the irrita...</td>\n",
       "      <td>none</td>\n",
       "      <td>Queen Anne is a wonderful, truly functional vi...</td>\n",
       "      <td>...</td>\n",
       "      <td>10.0</td>\n",
       "      <td>f</td>\n",
       "      <td>NaN</td>\n",
       "      <td>WASHINGTON</td>\n",
       "      <td>f</td>\n",
       "      <td>strict</td>\n",
       "      <td>t</td>\n",
       "      <td>t</td>\n",
       "      <td>6</td>\n",
       "      <td>1.48</td>\n",
       "    </tr>\n",
       "  </tbody>\n",
       "</table>\n",
       "<p>2 rows × 92 columns</p>\n",
       "</div>"
      ],
      "text/plain": [
       "       id                          listing_url     scrape_id last_scraped  \\\n",
       "0  241032  https://www.airbnb.com/rooms/241032  2.016010e+13     1/4/2016   \n",
       "1  953595  https://www.airbnb.com/rooms/953595  2.016010e+13     1/4/2016   \n",
       "\n",
       "                                 name  \\\n",
       "0        Stylish Queen Anne Apartment   \n",
       "1  Bright & Airy Queen Anne Apartment   \n",
       "\n",
       "                                             summary  \\\n",
       "0                                                NaN   \n",
       "1  Chemically sensitive? We've removed the irrita...   \n",
       "\n",
       "                                               space  \\\n",
       "0  Make your self at home in this charming one-be...   \n",
       "1  Beautiful, hypoallergenic apartment in an extr...   \n",
       "\n",
       "                                         description experiences_offered  \\\n",
       "0  Make your self at home in this charming one-be...                none   \n",
       "1  Chemically sensitive? We've removed the irrita...                none   \n",
       "\n",
       "                               neighborhood_overview  ... review_scores_value  \\\n",
       "0                                                NaN  ...                10.0   \n",
       "1  Queen Anne is a wonderful, truly functional vi...  ...                10.0   \n",
       "\n",
       "  requires_license license jurisdiction_names instant_bookable  \\\n",
       "0                f     NaN         WASHINGTON                f   \n",
       "1                f     NaN         WASHINGTON                f   \n",
       "\n",
       "  cancellation_policy  require_guest_profile_picture  \\\n",
       "0            moderate                              f   \n",
       "1              strict                              t   \n",
       "\n",
       "  require_guest_phone_verification calculated_host_listings_count  \\\n",
       "0                                f                              2   \n",
       "1                                t                              6   \n",
       "\n",
       "  reviews_per_month  \n",
       "0              4.07  \n",
       "1              1.48  \n",
       "\n",
       "[2 rows x 92 columns]"
      ]
     },
     "execution_count": 4,
     "metadata": {},
     "output_type": "execute_result"
    }
   ],
   "source": [
    "listings.head(2)"
   ]
  },
  {
   "cell_type": "markdown",
   "metadata": {},
   "source": [
    "**1.** Here I looked the number of rows and columns in the Calendar, reviews and listings files of the dataset."
   ]
  },
  {
   "cell_type": "code",
   "execution_count": 5,
   "metadata": {},
   "outputs": [
    {
     "name": "stdout",
     "output_type": "stream",
     "text": [
      "review data rows and columns\n",
      "Total rows:  84849\n",
      "Total columns:  6\n",
      " \n",
      " \n",
      "calender data rows and columns\n",
      "Total rows:  1393570\n",
      "Total columns:  4\n"
     ]
    }
   ],
   "source": [
    "#review data rows and columns\n",
    "print('review data rows and columns')\n",
    "print('Total rows: ',reviews.shape[0])\n",
    "print('Total columns: ',reviews.shape[1])\n",
    "print(' \\n ')\n",
    "#calender data rows and columns\n",
    "print('calender data rows and columns')\n",
    "print('Total rows: ',calendar.shape[0])\n",
    "print('Total columns: ',calendar.shape[1])"
   ]
  },
  {
   "cell_type": "code",
   "execution_count": 6,
   "metadata": {},
   "outputs": [
    {
     "name": "stdout",
     "output_type": "stream",
     "text": [
      "lisitng data rows and columns\n",
      "Total rows:  3818\n",
      "Total columns:  92\n"
     ]
    }
   ],
   "source": [
    "#lisitng data rows and columns\n",
    "print('lisitng data rows and columns')\n",
    "#no of rows \n",
    "print('Total rows: ',listings.shape[0])\n",
    "#no of columns\n",
    "print('Total columns: ',listings.shape[1])"
   ]
  },
  {
   "cell_type": "markdown",
   "metadata": {},
   "source": [
    "I decided First to work with listings file so here I check the information of listings dataset"
   ]
  },
  {
   "cell_type": "code",
   "execution_count": 7,
   "metadata": {
    "scrolled": true
   },
   "outputs": [
    {
     "name": "stdout",
     "output_type": "stream",
     "text": [
      "<class 'pandas.core.frame.DataFrame'>\n",
      "RangeIndex: 3818 entries, 0 to 3817\n",
      "Data columns (total 92 columns):\n",
      "id                                  3818 non-null int64\n",
      "listing_url                         3818 non-null object\n",
      "scrape_id                           3818 non-null float64\n",
      "last_scraped                        3818 non-null object\n",
      "name                                3818 non-null object\n",
      "summary                             3641 non-null object\n",
      "space                               3249 non-null object\n",
      "description                         3818 non-null object\n",
      "experiences_offered                 3818 non-null object\n",
      "neighborhood_overview               2786 non-null object\n",
      "notes                               2212 non-null object\n",
      "transit                             2884 non-null object\n",
      "thumbnail_url                       3498 non-null object\n",
      "medium_url                          3498 non-null object\n",
      "picture_url                         3818 non-null object\n",
      "xl_picture_url                      3498 non-null object\n",
      "host_id                             3818 non-null int64\n",
      "host_url                            3818 non-null object\n",
      "host_name                           3816 non-null object\n",
      "host_since                          3816 non-null object\n",
      "host_location                       3810 non-null object\n",
      "host_about                          2959 non-null object\n",
      "host_response_time                  3295 non-null object\n",
      "host_response_rate                  3295 non-null object\n",
      "host_acceptance_rate                3045 non-null object\n",
      "host_is_superhost                   3816 non-null object\n",
      "host_thumbnail_url                  3816 non-null object\n",
      "host_picture_url                    3816 non-null object\n",
      "host_neighbourhood                  3518 non-null object\n",
      "host_listings_count                 3816 non-null float64\n",
      "host_total_listings_count           3816 non-null float64\n",
      "host_verifications                  3818 non-null object\n",
      "host_has_profile_pic                3816 non-null object\n",
      "host_identity_verified              3816 non-null object\n",
      "street                              3818 non-null object\n",
      "neighbourhood                       3402 non-null object\n",
      "neighbourhood_cleansed              3818 non-null object\n",
      "neighbourhood_group_cleansed        3818 non-null object\n",
      "city                                3818 non-null object\n",
      "state                               3818 non-null object\n",
      "zipcode                             3811 non-null object\n",
      "market                              3818 non-null object\n",
      "smart_location                      3818 non-null object\n",
      "country_code                        3818 non-null object\n",
      "country                             3818 non-null object\n",
      "latitude                            3818 non-null float64\n",
      "longitude                           3818 non-null float64\n",
      "is_location_exact                   3818 non-null object\n",
      "property_type                       3817 non-null object\n",
      "room_type                           3818 non-null object\n",
      "accommodates                        3818 non-null int64\n",
      "bathrooms                           3802 non-null float64\n",
      "bedrooms                            3812 non-null float64\n",
      "beds                                3817 non-null float64\n",
      "bed_type                            3818 non-null object\n",
      "amenities                           3818 non-null object\n",
      "square_feet                         97 non-null float64\n",
      "price                               3818 non-null object\n",
      "weekly_price                        2009 non-null object\n",
      "monthly_price                       1517 non-null object\n",
      "security_deposit                    1866 non-null object\n",
      "cleaning_fee                        2788 non-null object\n",
      "guests_included                     3818 non-null int64\n",
      "extra_people                        3818 non-null object\n",
      "minimum_nights                      3818 non-null int64\n",
      "maximum_nights                      3818 non-null int64\n",
      "calendar_updated                    3818 non-null object\n",
      "has_availability                    3818 non-null object\n",
      "availability_30                     3818 non-null int64\n",
      "availability_60                     3818 non-null int64\n",
      "availability_90                     3818 non-null int64\n",
      "availability_365                    3818 non-null int64\n",
      "calendar_last_scraped               3818 non-null object\n",
      "number_of_reviews                   3818 non-null int64\n",
      "first_review                        3191 non-null object\n",
      "last_review                         3191 non-null object\n",
      "review_scores_rating                3171 non-null float64\n",
      "review_scores_accuracy              3160 non-null float64\n",
      "review_scores_cleanliness           3165 non-null float64\n",
      "review_scores_checkin               3160 non-null float64\n",
      "review_scores_communication         3167 non-null float64\n",
      "review_scores_location              3163 non-null float64\n",
      "review_scores_value                 3162 non-null float64\n",
      "requires_license                    3818 non-null object\n",
      "license                             0 non-null float64\n",
      "jurisdiction_names                  3818 non-null object\n",
      "instant_bookable                    3818 non-null object\n",
      "cancellation_policy                 3818 non-null object\n",
      "require_guest_profile_picture       3818 non-null object\n",
      "require_guest_phone_verification    3818 non-null object\n",
      "calculated_host_listings_count      3818 non-null int64\n",
      "reviews_per_month                   3191 non-null float64\n",
      "dtypes: float64(18), int64(12), object(62)\n",
      "memory usage: 2.7+ MB\n"
     ]
    }
   ],
   "source": [
    "#information of listings dataset\n",
    "listings.info()"
   ]
  },
  {
   "cell_type": "markdown",
   "metadata": {},
   "source": [
    "Now let's explore the listing dataset. \n",
    "\n",
    "**Missing values**\n",
    "1. How many columns have missings values?\n",
    "2. How many columns have more than 75% missing values\n",
    "3. How many columns that don't have any missing values?\n",
    "4. How many columns are full null?\n",
    "5. What are the names of those columns that don't have any missing values?\n",
    "6. What are the names of those columns that have missing values?"
   ]
  },
  {
   "cell_type": "code",
   "execution_count": 8,
   "metadata": {},
   "outputs": [
    {
     "data": {
      "text/plain": [
       "45"
      ]
     },
     "execution_count": 8,
     "metadata": {},
     "output_type": "execute_result"
    }
   ],
   "source": [
    "#no. of columns that have missing values in listing dataset\n",
    "sum(listings.isnull().any())"
   ]
  },
  {
   "cell_type": "code",
   "execution_count": 9,
   "metadata": {},
   "outputs": [
    {
     "data": {
      "text/plain": [
       "Index(['square_feet', 'license'], dtype='object')"
      ]
     },
     "execution_count": 9,
     "metadata": {},
     "output_type": "execute_result"
    }
   ],
   "source": [
    "#no. of columns that have missing values in listing dataset\n",
    "listings.columns[listings.isnull().mean() > 0.75]"
   ]
  },
  {
   "cell_type": "code",
   "execution_count": 10,
   "metadata": {},
   "outputs": [
    {
     "data": {
      "text/plain": [
       "47"
      ]
     },
     "execution_count": 10,
     "metadata": {},
     "output_type": "execute_result"
    }
   ],
   "source": [
    "#no. of columns that do not have missing values\n",
    "sum(listings.notnull().all())"
   ]
  },
  {
   "cell_type": "code",
   "execution_count": 11,
   "metadata": {},
   "outputs": [
    {
     "data": {
      "text/plain": [
       "1"
      ]
     },
     "execution_count": 11,
     "metadata": {},
     "output_type": "execute_result"
    }
   ],
   "source": [
    "#no. of columns that have NAN values in whole column listing dataset\n",
    "sum(listings.isnull().all())"
   ]
  },
  {
   "cell_type": "code",
   "execution_count": 12,
   "metadata": {
    "scrolled": false
   },
   "outputs": [
    {
     "data": {
      "text/plain": [
       "Index(['id', 'listing_url', 'scrape_id', 'last_scraped', 'name', 'description',\n",
       "       'experiences_offered', 'picture_url', 'host_id', 'host_url',\n",
       "       'host_verifications', 'street', 'neighbourhood_cleansed',\n",
       "       'neighbourhood_group_cleansed', 'city', 'state', 'market',\n",
       "       'smart_location', 'country_code', 'country', 'latitude', 'longitude',\n",
       "       'is_location_exact', 'room_type', 'accommodates', 'bed_type',\n",
       "       'amenities', 'price', 'guests_included', 'extra_people',\n",
       "       'minimum_nights', 'maximum_nights', 'calendar_updated',\n",
       "       'has_availability', 'availability_30', 'availability_60',\n",
       "       'availability_90', 'availability_365', 'calendar_last_scraped',\n",
       "       'number_of_reviews', 'requires_license', 'jurisdiction_names',\n",
       "       'instant_bookable', 'cancellation_policy',\n",
       "       'require_guest_profile_picture', 'require_guest_phone_verification',\n",
       "       'calculated_host_listings_count'],\n",
       "      dtype='object')"
      ]
     },
     "execution_count": 12,
     "metadata": {},
     "output_type": "execute_result"
    }
   ],
   "source": [
    "#name of colums that have missing value 0\n",
    "not_null_columns = listings.columns[listings.isnull().mean() == 0]\n",
    "not_null_columns"
   ]
  },
  {
   "cell_type": "code",
   "execution_count": 13,
   "metadata": {},
   "outputs": [
    {
     "data": {
      "text/plain": [
       "Index(['summary', 'space', 'neighborhood_overview', 'notes', 'transit',\n",
       "       'thumbnail_url', 'medium_url', 'xl_picture_url', 'host_name',\n",
       "       'host_since', 'host_location', 'host_about', 'host_response_time',\n",
       "       'host_response_rate', 'host_acceptance_rate', 'host_is_superhost',\n",
       "       'host_thumbnail_url', 'host_picture_url', 'host_neighbourhood',\n",
       "       'host_listings_count', 'host_total_listings_count',\n",
       "       'host_has_profile_pic', 'host_identity_verified', 'neighbourhood',\n",
       "       'zipcode', 'property_type', 'bathrooms', 'bedrooms', 'beds',\n",
       "       'square_feet', 'weekly_price', 'monthly_price', 'security_deposit',\n",
       "       'cleaning_fee', 'first_review', 'last_review', 'review_scores_rating',\n",
       "       'review_scores_accuracy', 'review_scores_cleanliness',\n",
       "       'review_scores_checkin', 'review_scores_communication',\n",
       "       'review_scores_location', 'review_scores_value', 'license',\n",
       "       'reviews_per_month'],\n",
       "      dtype='object')"
      ]
     },
     "execution_count": 13,
     "metadata": {},
     "output_type": "execute_result"
    }
   ],
   "source": [
    "# columns with missing values\n",
    "null_columns = listings.columns[listings.isnull().any()]\n",
    "null_columns"
   ]
  },
  {
   "cell_type": "markdown",
   "metadata": {},
   "source": [
    "Let's check the number of categorical and numerical features in listing dataset.\n",
    "1. No. of categorical columns\n",
    "2. No. of Numeric columns\n",
    "3. Name of categorcal columns\n",
    "4. Name of Numeric columns"
   ]
  },
  {
   "cell_type": "code",
   "execution_count": 14,
   "metadata": {},
   "outputs": [
    {
     "name": "stdout",
     "output_type": "stream",
     "text": [
      "Total Categorical features:  62\n"
     ]
    }
   ],
   "source": [
    "#no. of categorical columns\n",
    "print('Total Categorical features: ',listings.select_dtypes(include=['object']).shape[1])"
   ]
  },
  {
   "cell_type": "code",
   "execution_count": 15,
   "metadata": {},
   "outputs": [
    {
     "name": "stdout",
     "output_type": "stream",
     "text": [
      "Total Numeric features: 18\n"
     ]
    }
   ],
   "source": [
    "#no. of numeric columns\n",
    "print('Total Numeric features:',listings.select_dtypes(include=['int','float']).shape[1])"
   ]
  },
  {
   "cell_type": "code",
   "execution_count": 16,
   "metadata": {},
   "outputs": [
    {
     "data": {
      "text/plain": [
       "Index(['scrape_id', 'host_listings_count', 'host_total_listings_count',\n",
       "       'latitude', 'longitude', 'bathrooms', 'bedrooms', 'beds', 'square_feet',\n",
       "       'review_scores_rating', 'review_scores_accuracy',\n",
       "       'review_scores_cleanliness', 'review_scores_checkin',\n",
       "       'review_scores_communication', 'review_scores_location',\n",
       "       'review_scores_value', 'license', 'reviews_per_month'],\n",
       "      dtype='object')"
      ]
     },
     "execution_count": 16,
     "metadata": {},
     "output_type": "execute_result"
    }
   ],
   "source": [
    "#name of columns that are numeric\n",
    "listings.select_dtypes(include=['int','float']).columns"
   ]
  },
  {
   "cell_type": "code",
   "execution_count": 17,
   "metadata": {},
   "outputs": [
    {
     "data": {
      "text/plain": [
       "Index(['listing_url', 'last_scraped', 'name', 'summary', 'space',\n",
       "       'description', 'experiences_offered', 'neighborhood_overview', 'notes',\n",
       "       'transit', 'thumbnail_url', 'medium_url', 'picture_url',\n",
       "       'xl_picture_url', 'host_url', 'host_name', 'host_since',\n",
       "       'host_location', 'host_about', 'host_response_time',\n",
       "       'host_response_rate', 'host_acceptance_rate', 'host_is_superhost',\n",
       "       'host_thumbnail_url', 'host_picture_url', 'host_neighbourhood',\n",
       "       'host_verifications', 'host_has_profile_pic', 'host_identity_verified',\n",
       "       'street', 'neighbourhood', 'neighbourhood_cleansed',\n",
       "       'neighbourhood_group_cleansed', 'city', 'state', 'zipcode', 'market',\n",
       "       'smart_location', 'country_code', 'country', 'is_location_exact',\n",
       "       'property_type', 'room_type', 'bed_type', 'amenities', 'price',\n",
       "       'weekly_price', 'monthly_price', 'security_deposit', 'cleaning_fee',\n",
       "       'extra_people', 'calendar_updated', 'has_availability',\n",
       "       'calendar_last_scraped', 'first_review', 'last_review',\n",
       "       'requires_license', 'jurisdiction_names', 'instant_bookable',\n",
       "       'cancellation_policy', 'require_guest_profile_picture',\n",
       "       'require_guest_phone_verification'],\n",
       "      dtype='object')"
      ]
     },
     "execution_count": 17,
     "metadata": {},
     "output_type": "execute_result"
    }
   ],
   "source": [
    "#name of columns that are categorical\n",
    "listings.select_dtypes(include=['object']).columns"
   ]
  },
  {
   "cell_type": "markdown",
   "metadata": {},
   "source": [
    "Here we can see that we also getting price related columns as categorical features. So lets see the price related columns"
   ]
  },
  {
   "cell_type": "code",
   "execution_count": 19,
   "metadata": {},
   "outputs": [
    {
     "data": {
      "text/html": [
       "<div>\n",
       "<style scoped>\n",
       "    .dataframe tbody tr th:only-of-type {\n",
       "        vertical-align: middle;\n",
       "    }\n",
       "\n",
       "    .dataframe tbody tr th {\n",
       "        vertical-align: top;\n",
       "    }\n",
       "\n",
       "    .dataframe thead th {\n",
       "        text-align: right;\n",
       "    }\n",
       "</style>\n",
       "<table border=\"1\" class=\"dataframe\">\n",
       "  <thead>\n",
       "    <tr style=\"text-align: right;\">\n",
       "      <th></th>\n",
       "      <th>price</th>\n",
       "      <th>weekly_price</th>\n",
       "      <th>monthly_price</th>\n",
       "    </tr>\n",
       "  </thead>\n",
       "  <tbody>\n",
       "    <tr>\n",
       "      <th>0</th>\n",
       "      <td>$85.00</td>\n",
       "      <td>NaN</td>\n",
       "      <td>NaN</td>\n",
       "    </tr>\n",
       "    <tr>\n",
       "      <th>1</th>\n",
       "      <td>$150.00</td>\n",
       "      <td>$1,000.00</td>\n",
       "      <td>$3,000.00</td>\n",
       "    </tr>\n",
       "    <tr>\n",
       "      <th>2</th>\n",
       "      <td>$975.00</td>\n",
       "      <td>NaN</td>\n",
       "      <td>NaN</td>\n",
       "    </tr>\n",
       "    <tr>\n",
       "      <th>3</th>\n",
       "      <td>$100.00</td>\n",
       "      <td>$650.00</td>\n",
       "      <td>$2,300.00</td>\n",
       "    </tr>\n",
       "    <tr>\n",
       "      <th>4</th>\n",
       "      <td>$450.00</td>\n",
       "      <td>NaN</td>\n",
       "      <td>NaN</td>\n",
       "    </tr>\n",
       "  </tbody>\n",
       "</table>\n",
       "</div>"
      ],
      "text/plain": [
       "      price weekly_price monthly_price\n",
       "0   $85.00           NaN           NaN\n",
       "1  $150.00    $1,000.00     $3,000.00 \n",
       "2  $975.00           NaN           NaN\n",
       "3  $100.00      $650.00     $2,300.00 \n",
       "4  $450.00           NaN           NaN"
      ]
     },
     "execution_count": 19,
     "metadata": {},
     "output_type": "execute_result"
    }
   ],
   "source": [
    "listings[['price','weekly_price', 'monthly_price']].head()"
   ]
  },
  {
   "cell_type": "markdown",
   "metadata": {},
   "source": [
    "Here we can see that they have dollar sign with them so we need to convert them into float in order to use them for fither anaylsis."
   ]
  },
  {
   "cell_type": "markdown",
   "metadata": {},
   "source": [
    "- converting_price function to convert price to float and replace their dollar is created "
   ]
  },
  {
   "cell_type": "code",
   "execution_count": 22,
   "metadata": {},
   "outputs": [],
   "source": [
    "#fuction to convert price string to float and replacing dollar sign\n",
    "\n",
    "def converting_price(df, col_name):\n",
    "    '''\n",
    "    :param dataframe df: dataframe from which the column is extracted  \n",
    "    :param string column: the column name that will be converted\n",
    "    :return: dataframe with updated price column value\n",
    "    '''\n",
    "    \n",
    "    df[col_name] = df[col_name].str.replace(\"[$, ]\", \"\").astype(\"float\")\n",
    "    return df\n",
    "\n",
    "listings = converting_price(listings,'monthly_price')\n",
    "listings = converting_price(listings,'price')\n",
    "listings = converting_price(listings,'weekly_price')"
   ]
  },
  {
   "cell_type": "markdown",
   "metadata": {},
   "source": [
    "# Question 1- Anaylsis of room types, their percentage & price range on Airbnb"
   ]
  },
  {
   "cell_type": "markdown",
   "metadata": {},
   "source": [
    "**Question 1:** \n",
    "- What are the types of room on Airbnb?\n",
    "- which room_type have high percentage? \n",
    "- What is the price range of these room on Airbnb?"
   ]
  },
  {
   "cell_type": "code",
   "execution_count": 365,
   "metadata": {
    "scrolled": false
   },
   "outputs": [
    {
     "data": {
      "image/png": "[encoded data removed]",
      "text/plain": [
       "<Figure size 1440x1440 with 36 Axes>"
      ]
     },
     "metadata": {
      "needs_background": "light"
     },
     "output_type": "display_data"
    }
   ],
   "source": [
    "#histogram of listing data columns\n",
    "listings.hist(figsize=(20,20));"
   ]
  },
  {
   "cell_type": "markdown",
   "metadata": {},
   "source": [
    "From the above histograms,\n",
    "1. the price histogram shows that to rent Airbnb in seatle the price range is mostly below \\\\$200 but sometime their range also go upto \\\\$1000. \n",
    "- we can also see from weekly price histogram that the weekly rent price for Airbnb seatle is mostly below \\\\$1100 and in very few events it rises upto \\\\$5000\n",
    "- we can see from availability_365 histogram that rooms are highly available at the end of year.\n",
    "- the histrom of availability_90 shows that rooms are highly available at the end of march\n",
    "- we can also see from reviewers graph that they give good comments as the graph are right skewed.\n"
   ]
  },
  {
   "cell_type": "code",
   "execution_count": 415,
   "metadata": {
    "scrolled": false
   },
   "outputs": [
    {
     "data": {
      "image/png": "[encoded data removed]",
      "text/plain": [
       "<Figure size 432x288 with 1 Axes>"
      ]
     },
     "metadata": {
      "needs_background": "light"
     },
     "output_type": "display_data"
    }
   ],
   "source": [
    "listings.hist('availability_90');"
   ]
  },
  {
   "cell_type": "markdown",
   "metadata": {},
   "source": [
    "In order to understand answer the above questions we need to look into the room_type filed. We also need to look into the price field and shw them in graph."
   ]
  },
  {
   "cell_type": "code",
   "execution_count": 388,
   "metadata": {},
   "outputs": [
    {
     "name": "stdout",
     "output_type": "stream",
     "text": [
      "rooms type with count\n",
      "Entire home/apt    2541\n",
      "Private room       1160\n",
      "Shared room         117\n",
      "Name: room_type, dtype: int64\n",
      " \n",
      "\n",
      "proportion of rooms\n",
      "Entire home/apt    0.665532\n",
      "Private room       0.303824\n",
      "Shared room        0.030644\n",
      "Name: room_type, dtype: float64\n"
     ]
    }
   ],
   "source": [
    "#room type values in listings dataset\n",
    "room = listings.room_type.value_counts()\n",
    "print('rooms type with count')\n",
    "print(room)\n",
    "print(' \\n')\n",
    "print('proportion of rooms')\n",
    "print(room/listings.shape[0])"
   ]
  },
  {
   "cell_type": "code",
   "execution_count": 158,
   "metadata": {},
   "outputs": [
    {
     "data": {
      "image/png": "[encoded data removed]",
      "text/plain": [
       "<Figure size 432x288 with 1 Axes>"
      ]
     },
     "metadata": {
      "needs_background": "light"
     },
     "output_type": "display_data"
    }
   ],
   "source": [
    "#bar plot of proportion of individual rooms_type in lisitngs dataset\n",
    "(room/listings.shape[0]).plot(kind=\"bar\");\n",
    "plt.title(\"Types of room\");"
   ]
  },
  {
   "cell_type": "code",
   "execution_count": 309,
   "metadata": {},
   "outputs": [
    {
     "data": {
      "text/plain": [
       "room_type\n",
       "Entire home/apt    155.843369\n",
       "Private room        75.044828\n",
       "Shared room         47.547009\n",
       "Name: price, dtype: float64"
      ]
     },
     "execution_count": 309,
     "metadata": {},
     "output_type": "execute_result"
    }
   ],
   "source": [
    "#prices per night for each room type\n",
    "price_per_night = listings.groupby('room_type').mean()['price']\n",
    "price_per_night"
   ]
  },
  {
   "cell_type": "code",
   "execution_count": 296,
   "metadata": {},
   "outputs": [
    {
     "data": {
      "image/png": "[encoded data removed]",
      "text/plain": [
       "<Figure size 432x288 with 1 Axes>"
      ]
     },
     "metadata": {
      "needs_background": "light"
     },
     "output_type": "display_data"
    }
   ],
   "source": [
    "#bar plot of proportion of individual rooms_type in lisitngs dataset\n",
    "(price_per_night).plot(kind=\"bar\");\n",
    "plt.title(\"price per night\");"
   ]
  },
  {
   "cell_type": "markdown",
   "metadata": {},
   "source": [
    "We can see from above analysis that Entire home/apt have high range on Airbnb and have \\\\$155 per night price for this room_type. Using this information people can plan their trip accordingly."
   ]
  },
  {
   "cell_type": "markdown",
   "metadata": {},
   "source": [
    "# Question 2: Analysis of Room availabily with months and their prices to answer what time is best to visit seatle"
   ]
  },
  {
   "cell_type": "markdown",
   "metadata": {},
   "source": [
    "**Question 2:**\n",
    "\n",
    "- What are the room availability of Airbnb and their means prices through out the year? \n",
    "- Which month have high availability for room and in which month they have high prices? \n",
    "- What is the best time to visit seatles?\n"
   ]
  },
  {
   "cell_type": "markdown",
   "metadata": {},
   "source": [
    "We will explore the calender dataset to answer these questions.\n"
   ]
  },
  {
   "cell_type": "code",
   "execution_count": 54,
   "metadata": {
    "scrolled": true
   },
   "outputs": [
    {
     "data": {
      "text/html": [
       "<div>\n",
       "<style scoped>\n",
       "    .dataframe tbody tr th:only-of-type {\n",
       "        vertical-align: middle;\n",
       "    }\n",
       "\n",
       "    .dataframe tbody tr th {\n",
       "        vertical-align: top;\n",
       "    }\n",
       "\n",
       "    .dataframe thead th {\n",
       "        text-align: right;\n",
       "    }\n",
       "</style>\n",
       "<table border=\"1\" class=\"dataframe\">\n",
       "  <thead>\n",
       "    <tr style=\"text-align: right;\">\n",
       "      <th></th>\n",
       "      <th>listing_id</th>\n",
       "      <th>date</th>\n",
       "      <th>available</th>\n",
       "      <th>price</th>\n",
       "    </tr>\n",
       "  </thead>\n",
       "  <tbody>\n",
       "    <tr>\n",
       "      <th>0</th>\n",
       "      <td>241032</td>\n",
       "      <td>2016-01-04</td>\n",
       "      <td>t</td>\n",
       "      <td>85.0</td>\n",
       "    </tr>\n",
       "    <tr>\n",
       "      <th>1</th>\n",
       "      <td>241032</td>\n",
       "      <td>2016-01-05</td>\n",
       "      <td>t</td>\n",
       "      <td>85.0</td>\n",
       "    </tr>\n",
       "    <tr>\n",
       "      <th>2</th>\n",
       "      <td>241032</td>\n",
       "      <td>2016-01-06</td>\n",
       "      <td>f</td>\n",
       "      <td>NaN</td>\n",
       "    </tr>\n",
       "    <tr>\n",
       "      <th>3</th>\n",
       "      <td>241032</td>\n",
       "      <td>2016-01-07</td>\n",
       "      <td>f</td>\n",
       "      <td>NaN</td>\n",
       "    </tr>\n",
       "    <tr>\n",
       "      <th>4</th>\n",
       "      <td>241032</td>\n",
       "      <td>2016-01-08</td>\n",
       "      <td>f</td>\n",
       "      <td>NaN</td>\n",
       "    </tr>\n",
       "  </tbody>\n",
       "</table>\n",
       "</div>"
      ],
      "text/plain": [
       "   listing_id        date available  price\n",
       "0      241032  2016-01-04         t   85.0\n",
       "1      241032  2016-01-05         t   85.0\n",
       "2      241032  2016-01-06         f    NaN\n",
       "3      241032  2016-01-07         f    NaN\n",
       "4      241032  2016-01-08         f    NaN"
      ]
     },
     "execution_count": 54,
     "metadata": {},
     "output_type": "execute_result"
    }
   ],
   "source": [
    "calendar.head()"
   ]
  },
  {
   "cell_type": "code",
   "execution_count": 55,
   "metadata": {},
   "outputs": [
    {
     "data": {
      "text/plain": [
       "Index(['price'], dtype='object')"
      ]
     },
     "execution_count": 55,
     "metadata": {},
     "output_type": "execute_result"
    }
   ],
   "source": [
    "#checking null column in calendar dataset\n",
    "calendar.columns[calendar.isnull().any()]"
   ]
  },
  {
   "cell_type": "markdown",
   "metadata": {},
   "source": [
    "Fisrt count the percentage of availabilty "
   ]
  },
  {
   "cell_type": "code",
   "execution_count": 56,
   "metadata": {
    "scrolled": true
   },
   "outputs": [
    {
     "data": {
      "text/plain": [
       "t    0.67061\n",
       "f    0.32939\n",
       "Name: available, dtype: float64"
      ]
     },
     "execution_count": 56,
     "metadata": {},
     "output_type": "execute_result"
    }
   ],
   "source": [
    "#availability of lisitngs\n",
    "calendar.available.value_counts()/calendar.shape[0]"
   ]
  },
  {
   "cell_type": "markdown",
   "metadata": {},
   "source": [
    "- 67% of time rooms are available and 33% of time they are not. Now lets see on which month they are available.\n",
    "- For this we need to covert datatime and then pick the month."
   ]
  },
  {
   "cell_type": "code",
   "execution_count": 57,
   "metadata": {},
   "outputs": [],
   "source": [
    "#covert datatime object to datetime\n",
    "calendar['Datetime'] = pd.to_datetime(calendar['date'], format=\"%Y/%m/%d\")"
   ]
  },
  {
   "cell_type": "code",
   "execution_count": 58,
   "metadata": {},
   "outputs": [],
   "source": [
    "#picking only month column\n",
    "calendar['month'] = pd.DatetimeIndex(calendar['Datetime']).month"
   ]
  },
  {
   "cell_type": "code",
   "execution_count": 59,
   "metadata": {
    "scrolled": true
   },
   "outputs": [
    {
     "data": {
      "text/plain": [
       "month\n",
       "12    87061\n",
       "3     83938\n",
       "10    82438\n",
       "11    81780\n",
       "5     79971\n",
       "9     77246\n",
       "6     77244\n",
       "8     76347\n",
       "4     76037\n",
       "7     74222\n",
       "2     73321\n",
       "1     64937\n",
       "Name: listing_id, dtype: int64"
      ]
     },
     "execution_count": 59,
     "metadata": {},
     "output_type": "execute_result"
    }
   ],
   "source": [
    "#groping only available data by month \n",
    "availability_room_by_month = calendar[calendar['available'] == 't'].groupby(['month']).count()['listing_id'].sort_values(ascending=False)\n",
    "availability_room_by_month"
   ]
  },
  {
   "cell_type": "code",
   "execution_count": 60,
   "metadata": {},
   "outputs": [
    {
     "data": {
      "image/png": "[encoded data removed]",
      "text/plain": [
       "<Figure size 432x288 with 1 Axes>"
      ]
     },
     "metadata": {
      "needs_background": "light"
     },
     "output_type": "display_data"
    }
   ],
   "source": [
    "# bar graph of availability by month\n",
    "(availability_room_by_month).plot(kind=\"bar\");\n",
    "plt.title(\"availability by month\");"
   ]
  },
  {
   "cell_type": "markdown",
   "metadata": {},
   "source": [
    "-  we can see from above graph that they are highly available through out year but in march and december avaialability is high as compared to other months and january has less availability."
   ]
  },
  {
   "cell_type": "markdown",
   "metadata": {},
   "source": [
    "Now lets see the mean price per month"
   ]
  },
  {
   "cell_type": "code",
   "execution_count": 53,
   "metadata": {},
   "outputs": [],
   "source": [
    "#convertig price string using the function defined above\n",
    "calendar = converting_price(calendar,'price')"
   ]
  },
  {
   "cell_type": "code",
   "execution_count": 61,
   "metadata": {},
   "outputs": [
    {
     "data": {
      "text/plain": [
       "month\n",
       "7     152.094150\n",
       "8     150.656594\n",
       "6     147.473137\n",
       "9     143.255949\n",
       "5     139.538183\n",
       "12    137.251835\n",
       "10    137.031939\n",
       "11    135.688738\n",
       "4     135.097005\n",
       "3     128.644488\n",
       "2     124.293927\n",
       "1     122.912176\n",
       "Name: price, dtype: float64"
      ]
     },
     "execution_count": 61,
     "metadata": {},
     "output_type": "execute_result"
    }
   ],
   "source": [
    "#groping by month the mean prices \n",
    "mean_price_per_month = calendar.groupby(['month']).mean()['price'].sort_values(ascending=False)\n",
    "mean_price_per_month"
   ]
  },
  {
   "cell_type": "code",
   "execution_count": 63,
   "metadata": {},
   "outputs": [
    {
     "data": {
      "image/png": "[encoded data removed]",
      "text/plain": [
       "<Figure size 432x288 with 1 Axes>"
      ]
     },
     "metadata": {
      "needs_background": "light"
     },
     "output_type": "display_data"
    }
   ],
   "source": [
    "# bar graph of mean price per month\n",
    "(mean_price_per_month).plot(kind=\"bar\");\n",
    "plt.title(\"mean price per month\");"
   ]
  },
  {
   "cell_type": "markdown",
   "metadata": {},
   "source": [
    "- we can see that prices are high is summer season and comparitively low in winter season"
   ]
  },
  {
   "cell_type": "markdown",
   "metadata": {},
   "source": [
    "As we look the availability of room by month and price range by month lets look into reviwers data and see the comments of reviewers by month"
   ]
  },
  {
   "cell_type": "code",
   "execution_count": 64,
   "metadata": {},
   "outputs": [
    {
     "data": {
      "text/html": [
       "<div>\n",
       "<style scoped>\n",
       "    .dataframe tbody tr th:only-of-type {\n",
       "        vertical-align: middle;\n",
       "    }\n",
       "\n",
       "    .dataframe tbody tr th {\n",
       "        vertical-align: top;\n",
       "    }\n",
       "\n",
       "    .dataframe thead th {\n",
       "        text-align: right;\n",
       "    }\n",
       "</style>\n",
       "<table border=\"1\" class=\"dataframe\">\n",
       "  <thead>\n",
       "    <tr style=\"text-align: right;\">\n",
       "      <th></th>\n",
       "      <th>listing_id</th>\n",
       "      <th>id</th>\n",
       "      <th>date</th>\n",
       "      <th>reviewer_id</th>\n",
       "      <th>reviewer_name</th>\n",
       "      <th>comments</th>\n",
       "    </tr>\n",
       "  </thead>\n",
       "  <tbody>\n",
       "    <tr>\n",
       "      <th>0</th>\n",
       "      <td>7202016</td>\n",
       "      <td>38917982</td>\n",
       "      <td>2015-07-19</td>\n",
       "      <td>28943674</td>\n",
       "      <td>Bianca</td>\n",
       "      <td>Cute and cozy place. Perfect location to every...</td>\n",
       "    </tr>\n",
       "    <tr>\n",
       "      <th>1</th>\n",
       "      <td>7202016</td>\n",
       "      <td>39087409</td>\n",
       "      <td>2015-07-20</td>\n",
       "      <td>32440555</td>\n",
       "      <td>Frank</td>\n",
       "      <td>Kelly has a great room in a very central locat...</td>\n",
       "    </tr>\n",
       "    <tr>\n",
       "      <th>2</th>\n",
       "      <td>7202016</td>\n",
       "      <td>39820030</td>\n",
       "      <td>2015-07-26</td>\n",
       "      <td>37722850</td>\n",
       "      <td>Ian</td>\n",
       "      <td>Very spacious apartment, and in a great neighb...</td>\n",
       "    </tr>\n",
       "    <tr>\n",
       "      <th>3</th>\n",
       "      <td>7202016</td>\n",
       "      <td>40813543</td>\n",
       "      <td>2015-08-02</td>\n",
       "      <td>33671805</td>\n",
       "      <td>George</td>\n",
       "      <td>Close to Seattle Center and all it has to offe...</td>\n",
       "    </tr>\n",
       "    <tr>\n",
       "      <th>4</th>\n",
       "      <td>7202016</td>\n",
       "      <td>41986501</td>\n",
       "      <td>2015-08-10</td>\n",
       "      <td>34959538</td>\n",
       "      <td>Ming</td>\n",
       "      <td>Kelly was a great host and very accommodating ...</td>\n",
       "    </tr>\n",
       "  </tbody>\n",
       "</table>\n",
       "</div>"
      ],
      "text/plain": [
       "   listing_id        id        date  reviewer_id reviewer_name  \\\n",
       "0     7202016  38917982  2015-07-19     28943674        Bianca   \n",
       "1     7202016  39087409  2015-07-20     32440555         Frank   \n",
       "2     7202016  39820030  2015-07-26     37722850           Ian   \n",
       "3     7202016  40813543  2015-08-02     33671805        George   \n",
       "4     7202016  41986501  2015-08-10     34959538          Ming   \n",
       "\n",
       "                                            comments  \n",
       "0  Cute and cozy place. Perfect location to every...  \n",
       "1  Kelly has a great room in a very central locat...  \n",
       "2  Very spacious apartment, and in a great neighb...  \n",
       "3  Close to Seattle Center and all it has to offe...  \n",
       "4  Kelly was a great host and very accommodating ...  "
      ]
     },
     "execution_count": 64,
     "metadata": {},
     "output_type": "execute_result"
    }
   ],
   "source": [
    "reviews.head()"
   ]
  },
  {
   "cell_type": "code",
   "execution_count": 65,
   "metadata": {},
   "outputs": [],
   "source": [
    "reviews['datetime'] = pd.to_datetime(reviews['date'], format=\"%Y/%m/%d\")"
   ]
  },
  {
   "cell_type": "code",
   "execution_count": 66,
   "metadata": {},
   "outputs": [],
   "source": [
    "reviews['month'] = pd.DatetimeIndex(reviews['datetime']).month"
   ]
  },
  {
   "cell_type": "code",
   "execution_count": 67,
   "metadata": {},
   "outputs": [
    {
     "data": {
      "text/plain": [
       "month\n",
       "8     13017\n",
       "9     11675\n",
       "7     10501\n",
       "10     8954\n",
       "6      8542\n",
       "11     6665\n",
       "5      5853\n",
       "12     5730\n",
       "4      4231\n",
       "3      4157\n",
       "1      2864\n",
       "2      2642\n",
       "Name: comments, dtype: int64"
      ]
     },
     "execution_count": 67,
     "metadata": {},
     "output_type": "execute_result"
    }
   ],
   "source": [
    "#groping comments data by month \n",
    "comments_per_month = reviews.groupby(['month']).count()['comments'].sort_values(ascending=False)\n",
    "comments_per_month"
   ]
  },
  {
   "cell_type": "code",
   "execution_count": 68,
   "metadata": {},
   "outputs": [
    {
     "data": {
      "image/png": "[encoded data removed]",
      "text/plain": [
       "<Figure size 432x288 with 1 Axes>"
      ]
     },
     "metadata": {
      "needs_background": "light"
     },
     "output_type": "display_data"
    }
   ],
   "source": [
    "# bargraph of comments per month\n",
    "(comments_per_month).plot(kind=\"bar\");\n",
    "plt.title(\"reviwers comments per month\");"
   ]
  },
  {
   "cell_type": "markdown",
   "metadata": {},
   "source": [
    "- we can see from this graph that most comments are from July, august and september"
   ]
  },
  {
   "cell_type": "markdown",
   "metadata": {},
   "source": [
    "we can conclude from above three graph that people mostly visit Seatle in summer season from July to September. As there is crowd in these month, the prices go high. By doing this analysis we can see that people prefer going to seatle in these months.\n"
   ]
  },
  {
   "cell_type": "markdown",
   "metadata": {},
   "source": [
    "# Question 3: Neighbourhood price Analysis"
   ]
  },
  {
   "cell_type": "markdown",
   "metadata": {},
   "source": [
    "**Questios3:**\n",
    "\n",
    "- Which neighbourhood have high prices?\n",
    "- What are the top neighbourhoods location wise by looking into the reviwers location score?\n",
    "- Which neighbours is high ranked by reviewrs?\n"
   ]
  },
  {
   "cell_type": "markdown",
   "metadata": {},
   "source": [
    "First presented the neighbourhood mean price by month using the listing data"
   ]
  },
  {
   "cell_type": "code",
   "execution_count": 70,
   "metadata": {},
   "outputs": [],
   "source": [
    "# grouped by neighbourhood on the base of their mean price\n",
    "neibhourhood_price = listings.groupby('neighbourhood_group_cleansed').mean()['price'].sort_values(ascending=False)"
   ]
  },
  {
   "cell_type": "code",
   "execution_count": 72,
   "metadata": {},
   "outputs": [
    {
     "data": {
      "image/png": "[encoded data removed]",
      "text/plain": [
       "<Figure size 1440x360 with 1 Axes>"
      ]
     },
     "metadata": {
      "needs_background": "light"
     },
     "output_type": "display_data"
    }
   ],
   "source": [
    "#bar graph\n",
    "(neibhourhood_price).plot(figsize = (20,5),kind=\"bar\");\n",
    "plt.title(\"Neighbourhood price\");"
   ]
  },
  {
   "cell_type": "markdown",
   "metadata": {},
   "source": [
    "We can see from the above graph that Magnila is highly expesive."
   ]
  },
  {
   "cell_type": "code",
   "execution_count": 73,
   "metadata": {},
   "outputs": [
    {
     "data": {
      "text/plain": [
       "neighbourhood_group_cleansed\n",
       "Capitol Hill           9.823529\n",
       "Downtown               9.769737\n",
       "Ballard                9.766839\n",
       "West Seattle           9.765432\n",
       "Queen Anne             9.751020\n",
       "Other neighborhoods    9.637481\n",
       "Magnolia               9.617021\n",
       "Cascade                9.569231\n",
       "Central Area           9.489028\n",
       "Northgate              9.353846\n",
       "Seward Park            9.282051\n",
       "Lake City              9.267857\n",
       "University District    9.252632\n",
       "Delridge               9.200000\n",
       "Interbay               9.111111\n",
       "Beacon Hill            9.097087\n",
       "Rainier Valley         9.052239\n",
       "Name: review_scores_location, dtype: float64"
      ]
     },
     "execution_count": 73,
     "metadata": {},
     "output_type": "execute_result"
    }
   ],
   "source": [
    "neighbourhood_review_scores_location = listings.groupby('neighbourhood_group_cleansed').mean()['review_scores_location'].sort_values(ascending=False)\n",
    "neighbourhood_review_scores_location"
   ]
  },
  {
   "cell_type": "code",
   "execution_count": 74,
   "metadata": {},
   "outputs": [
    {
     "data": {
      "image/png": "[encoded data removed]",
      "text/plain": [
       "<Figure size 1440x360 with 1 Axes>"
      ]
     },
     "metadata": {
      "needs_background": "light"
     },
     "output_type": "display_data"
    }
   ],
   "source": [
    "#bar graph\n",
    "(neighbourhood_review_scores_location).plot(figsize = (20,5),kind=\"bar\");\n",
    "plt.title(\"Neighbourhood by reviwer location\");"
   ]
  },
  {
   "cell_type": "markdown",
   "metadata": {},
   "source": [
    "- we can see from above graph that Capitol Hill, Down Town and Ballard are in top three location wise"
   ]
  },
  {
   "cell_type": "code",
   "execution_count": 76,
   "metadata": {},
   "outputs": [
    {
     "data": {
      "text/plain": [
       "neighbourhood_group_cleansed\n",
       "Central Area           96.009404\n",
       "West Seattle           95.864198\n",
       "Delridge               95.861538\n",
       "Ballard                95.533679\n",
       "Queen Anne             95.443089\n",
       "Seward Park            95.025641\n",
       "Rainier Valley         94.731343\n",
       "Northgate              94.692308\n",
       "Other neighborhoods    94.562500\n",
       "Lake City              94.375000\n",
       "Capitol Hill           94.184783\n",
       "Beacon Hill            94.019417\n",
       "Downtown               93.958333\n",
       "Magnolia               93.787234\n",
       "Interbay               93.777778\n",
       "Cascade                92.461538\n",
       "University District    88.437500\n",
       "Name: review_scores_rating, dtype: float64"
      ]
     },
     "execution_count": 76,
     "metadata": {},
     "output_type": "execute_result"
    }
   ],
   "source": [
    "neighbourhood_review_scores_rating = listings.groupby('neighbourhood_group_cleansed').mean()['review_scores_rating'].sort_values(ascending=False)\n",
    "neighbourhood_review_scores_rating\n"
   ]
  },
  {
   "cell_type": "code",
   "execution_count": 77,
   "metadata": {},
   "outputs": [
    {
     "data": {
      "image/png": "[encoded data removed]",
      "text/plain": [
       "<Figure size 1440x360 with 1 Axes>"
      ]
     },
     "metadata": {
      "needs_background": "light"
     },
     "output_type": "display_data"
    }
   ],
   "source": [
    "#bar graph\n",
    "(neighbourhood_review_scores_rating).plot(figsize = (20,5),kind=\"bar\");\n",
    "plt.title(\"Neighbourhood by reviwer rank\");"
   ]
  },
  {
   "cell_type": "markdown",
   "metadata": {},
   "source": [
    "While the Cebtral Area, west Seatle and Delrige are in top 3 higly rank list."
   ]
  },
  {
   "cell_type": "markdown",
   "metadata": {},
   "source": [
    "From the above three graph we can concluse that as Mangolia is most expesive place but its not in coming in the top 3 of reviwers location and rank. On the ohter hand Ballard is in top 3 location wise and in top 4 rank wise and it also have low price as compared to others.\n",
    "so I think the best neighbourhood to visit is Ballard. "
   ]
  },
  {
   "cell_type": "code",
   "execution_count": null,
   "metadata": {},
   "outputs": [],
   "source": []
  }
 ],
 "metadata": {
  "kernelspec": {
   "display_name": "Python 3",
   "language": "python",
   "name": "python3"
  },
  "language_info": {
   "codemirror_mode": {
    "name": "ipython",
    "version": 3
   },
   "file_extension": ".py",
   "mimetype": "text/x-python",
   "name": "python",
   "nbconvert_exporter": "python",
   "pygments_lexer": "ipython3",
   "version": "3.7.3"
  }
 },
 "nbformat": 4,
 "nbformat_minor": 2
}
